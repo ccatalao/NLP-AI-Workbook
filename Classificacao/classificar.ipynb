{
 "cells": [
  {
   "cell_type": "markdown",
   "metadata": {},
   "source": [
    "# LINGUAGEM NATURAL E INTELIGÊNCIA ARTIFICIAL\n"
   ]
  },
  {
   "cell_type": "markdown",
   "metadata": {},
   "source": [
    "## CLASSIFICAÇÃO AUTOMÁTICA DE TEXTO"
   ]
  },
  {
   "cell_type": "markdown",
   "metadata": {},
   "source": [
    "#### Exercício:"
   ]
  },
  {
   "cell_type": "raw",
   "metadata": {},
   "source": [
    "Classificar textos de acções de divulgação científica, com aplicação de aprendizagem automática supervisionada."
   ]
  },
  {
   "cell_type": "markdown",
   "metadata": {},
   "source": [
    "Os dados utilizados neste exemplo são dois ficheiros em formato CSV:"
   ]
  },
  {
   "cell_type": "raw",
   "metadata": {},
   "source": [
    "dados_treino.csv, com textos classificados por categorias temáticas (eg., astronomia, biologia, etc)\n",
    "dados_classificar.csv, com textos não classificados"
   ]
  },
  {
   "cell_type": "raw",
   "metadata": {},
   "source": [
    "O resultado final será a criação de um ficheiro excel (dados_classificados.xls)."
   ]
  },
  {
   "cell_type": "markdown",
   "metadata": {},
   "source": [
    "#### Livrarias python"
   ]
  },
  {
   "cell_type": "code",
   "execution_count": 45,
   "metadata": {
    "collapsed": true
   },
   "outputs": [],
   "source": [
    "import sys\n",
    "from openpyxl import Workbook\n",
    "import csv\n",
    "import re\n",
    "import pickle\n",
    "import numpy as np\n",
    "import matplotlib.pyplot as plt\n",
    "import pandas as pd"
   ]
  },
  {
   "cell_type": "markdown",
   "metadata": {},
   "source": [
    "#### Livrarias NLTK - Natural Langage Processing Toolkit"
   ]
  },
  {
   "cell_type": "code",
   "execution_count": 46,
   "metadata": {
    "collapsed": true
   },
   "outputs": [],
   "source": [
    "import nltk\n",
    "from nltk.stem.snowball import SnowballStemmer\n",
    "from nltk.corpus import stopwords"
   ]
  },
  {
   "cell_type": "markdown",
   "metadata": {},
   "source": [
    "#### Livrarias SciKit Learn - Machine Learning"
   ]
  },
  {
   "cell_type": "code",
   "execution_count": 47,
   "metadata": {
    "collapsed": true
   },
   "outputs": [],
   "source": [
    "from sklearn.linear_model import LogisticRegression\n",
    "from sklearn.svm import SVC\n",
    "from sklearn.gaussian_process import GaussianProcessClassifier\n",
    "from sklearn.gaussian_process.kernels import RBF\n",
    "from sklearn import datasets\n",
    "from sklearn.feature_extraction.text import CountVectorizer, TfidfTransformer"
   ]
  },
  {
   "cell_type": "markdown",
   "metadata": {},
   "source": [
    "#### Variáveis"
   ]
  },
  {
   "cell_type": "code",
   "execution_count": 48,
   "metadata": {
    "collapsed": true
   },
   "outputs": [],
   "source": [
    "corpo = []\n",
    "novo_corpo = []\n",
    "categorias = [\n",
    "        \"Outra\",\n",
    "        \"Astronomia\",\n",
    "        \"Biologia\",\n",
    "        \"Geologia\",\n",
    "        \"Farois\",\n",
    "        \"Engenharia\",\n",
    "        \"Patrimonio\",\n",
    "        \"Castelos\",\n",
    "    ]"
   ]
  },
  {
   "cell_type": "markdown",
   "metadata": {},
   "source": [
    "#### Funções"
   ]
  },
  {
   "cell_type": "code",
   "execution_count": 49,
   "metadata": {
    "collapsed": true
   },
   "outputs": [],
   "source": [
    "def tokenizar(texto, stemizar=True, lingua=\"portuguese\"):\n",
    "\n",
    "    # Usa o SnowballStemmer do NLTK para português\n",
    "    stemizador = SnowballStemmer(lingua)\n",
    "\n",
    "    # Tokeniza por frase e por palavra\n",
    "    tokens = [word.lower() for frase in nltk.sent_tokenize(texto) for word in nltk.word_tokenize(frase)]\n",
    "    \n",
    "    # Aplica NLTK stopwords \n",
    "    stop_words_pt = set(stopwords.words(lingua)) \n",
    "    \n",
    "    # Filtra as palavras que não contenham letras (e.g., numbers and raw punctuation) \n",
    "    # e que estejam na lista de stopwords\n",
    "    tokens_filtrados = []\n",
    "    for token in tokens:\n",
    "        if re.search(\"[a-zA-Z]\", token):\n",
    "            if token not in stopwords.words(lingua):\n",
    "                if token not in stop_words_pt:\n",
    "                    tokens_filtrados.append(token)\n",
    "                if stemizar:\n",
    "                    stems = [stemizador.stem(token) for token in tokens_filtrados]\n",
    "    return stems\n"
   ]
  },
  {
   "cell_type": "code",
   "execution_count": 21,
   "metadata": {
    "collapsed": true
   },
   "outputs": [],
   "source": [
    "def _convert_to_number(cell):\n",
    "    if cell.isnumeric():\n",
    "        return int(cell)\n",
    "    try:\n",
    "        return float(cell)\n",
    "    except ValueError:\n",
    "        return cell"
   ]
  },
  {
   "cell_type": "markdown",
   "metadata": {},
   "source": [
    "#### Dados para treino"
   ]
  },
  {
   "cell_type": "code",
   "execution_count": 50,
   "metadata": {
    "collapsed": true
   },
   "outputs": [],
   "source": [
    "# Importando os dados de treino\n",
    "dados_treino = pd.read_csv(\"data/dados_treino.csv\", delimiter = \"\\t\", quoting = 3)"
   ]
  },
  {
   "cell_type": "markdown",
   "metadata": {},
   "source": [
    "#### Pré-processamento dos dados de treino"
   ]
  },
  {
   "cell_type": "code",
   "execution_count": 51,
   "metadata": {},
   "outputs": [
    {
     "name": "stdout",
     "output_type": "stream",
     "text": [
      "\n",
      "Treinando com o corpo de dados já classificado ... Aguardar, por favor.\n",
      "\n"
     ]
    }
   ],
   "source": [
    "print(\"\\nTreinando com o corpo de dados já classificado ... Aguardar, por favor.\\n\")\n",
    "for i in range(len(dados_treino)):    \n",
    "    tokens = tokenizar(dados_treino[\"texto\"][i], stemizar=True, lingua=\"portuguese\")    \n",
    "    # refaz cada linha com os tokens processados\n",
    "    tokens = ' '.join(tokens)\n",
    "    corpo.append(tokens)"
   ]
  },
  {
   "cell_type": "markdown",
   "metadata": {},
   "source": [
    "#### Calcular a matriz TF-IDF"
   ]
  },
  {
   "cell_type": "code",
   "execution_count": 52,
   "metadata": {
    "collapsed": true
   },
   "outputs": [],
   "source": [
    "# Filtrar só as 100 palavras mais frequentes\n",
    "cv = CountVectorizer(max_features = 100)\n",
    "\n",
    "# Obter a variável independente X (o texto classificado)\n",
    "X = cv.fit_transform(corpo).toarray()\n",
    "tfidf_transformer = TfidfTransformer()\n",
    "X_tfidf = tfidf_transformer.fit_transform(X)\n",
    "\n",
    "# Gravar a matriz TF-IDF\n",
    "pickle.dump(X_tfidf, open(\"TF-IDF_Matrix.p\", \"wb\"))\n",
    "\n",
    "# Obter a variável independente y (a categoria a que o texto pertence)\n",
    "y = dados_treino.iloc[:, 2].values # \":\" para ter todas as linhas, e \"2\" para a coluna"
   ]
  },
  {
   "cell_type": "markdown",
   "metadata": {},
   "source": [
    "#### Aplicar o modelo classificação aos dados de treino"
   ]
  },
  {
   "cell_type": "code",
   "execution_count": 25,
   "metadata": {
    "collapsed": true
   },
   "outputs": [],
   "source": [
    "# Aplicar o modelo Multinominal Naive Bayes (Multinomial NB model),\n",
    "# um método supervisionado e probabilístico de aprendizagem\n",
    "from sklearn.naive_bayes import MultinomialNB\n",
    "\n",
    "clf = MultinomialNB().fit(X_tfidf, y)"
   ]
  },
  {
   "cell_type": "markdown",
   "metadata": {},
   "source": [
    "#### Importar novos dados para classificação"
   ]
  },
  {
   "cell_type": "code",
   "execution_count": 26,
   "metadata": {},
   "outputs": [
    {
     "name": "stdout",
     "output_type": "stream",
     "text": [
      "A classificar actividades, partindo do treino realizado ... Aguardar, por favor.\n",
      "\n"
     ]
    }
   ],
   "source": [
    "# Importando os dados para classificação \n",
    "dados_classificar = pd.read_csv(\"data/dados_classificar.csv\", delimiter = \"\\t\", quoting = 3)"
   ]
  },
  {
   "cell_type": "markdown",
   "metadata": {},
   "source": [
    "#### Pré-processamento dos dados para classificar"
   ]
  },
  {
   "cell_type": "code",
   "execution_count": 27,
   "metadata": {},
   "outputs": [
    {
     "name": "stdout",
     "output_type": "stream",
     "text": [
      "A classificar actividades, partindo do treino realizado ... Aguardar, por favor.\n",
      "\n"
     ]
    }
   ],
   "source": [
    "print(\"A classificar actividades, partindo do treino realizado ... Aguardar, por favor.\\n\")\n",
    "for i in range(len(dados_classificar)):    \n",
    "    tokens = tokenizar(dados_classificar[\"texto\"][i], stemizar=True, lingua=\"portuguese\")    \n",
    "    # refaz cada linha com os tokens processados\n",
    "    tokens = ' '.join(tokens)\n",
    "    novo_corpo.append(tokens)"
   ]
  },
  {
   "cell_type": "markdown",
   "metadata": {},
   "source": [
    "#### Calcular a matiz TF-IDF dos dados para classificar"
   ]
  },
  {
   "cell_type": "code",
   "execution_count": 28,
   "metadata": {
    "collapsed": true
   },
   "outputs": [],
   "source": [
    "X_novo = cv.transform(novo_corpo)\n",
    "X_novo_tfidf = tfidf_transformer.transform(X_novo)"
   ]
  },
  {
   "cell_type": "markdown",
   "metadata": {},
   "source": [
    "#### Previsão de classificações e respectivas probabilidades"
   ]
  },
  {
   "cell_type": "code",
   "execution_count": null,
   "metadata": {
    "collapsed": true
   },
   "outputs": [],
   "source": [
    "previsoes = clf.predict(X_novo_tfidf)\n",
    "probabilidades = clf.predict_proba(X_novo_tfidf)\n",
    "\n",
    "nova_classificacao = []\n",
    "for i in range(len(dados_classificar)): \n",
    "    p = previsoes[i]\n",
    "    if p > 5:\n",
    "        p = 5\n",
    "    pb = p - 1\n",
    "    print(str(i) + \"\\t\" + str(p) + \"\\t\" + str(probabilidades[i][pb]*100))\n",
    "\n",
    "    line = {\n",
    "            \"titulo\":dados_classificar[\"titulo\"][i],\n",
    "            \"texto\":dados_classificar[\"texto\"][i],\n",
    "            \"previsao\":p,\n",
    "            \"categoria\":categorias[previsoes[i]],\n",
    "            \"probabilidade\":(probabilidades[i][pb]) * 100,             \n",
    "            }\n",
    "    nova_classificacao.append(line)\n"
   ]
  },
  {
   "cell_type": "markdown",
   "metadata": {},
   "source": [
    "#### Escrever  os dados classificados num ficheiro CSV"
   ]
  },
  {
   "cell_type": "code",
   "execution_count": 33,
   "metadata": {},
   "outputs": [],
   "source": [
    "with open(\"data/dados_classificados.csv\", \"w\") as ficheiro_csv:       \n",
    "    csv.writer(ficheiro_csv, delimiter = \"\\t\", quotechar = \",\", quoting=csv.QUOTE_MINIMAL)\n",
    "    colunas = [\"titulo\",\"texto\", \"tipo\", \"previsao\",\"probabilidade\"]\n",
    "    linha = {}\n",
    "    writer = csv.DictWriter(ficheiro_csv, colunas, delimiter='\\t')\n",
    "    writer.writeheader()   \n",
    "    \n",
    "\n",
    "    for i in range(len(nova_classificacao)):\n",
    "        linha = {\n",
    "        \"titulo\": nova_classificacao[i][\"titulo\"],\n",
    "        \"texto\": nova_classificacao[i][\"texto\"],\n",
    "        \"tipo\": nova_classificacao[i][\"previsao\"],                \n",
    "        \"previsao\": nova_classificacao[i][\"categoria\"],\n",
    "        \"probabilidade\": nova_classificacao[i][\"probabilidade\"]                          \n",
    "        }    \n",
    "        writer.writerow(linha)"
   ]
  },
  {
   "cell_type": "markdown",
   "metadata": {},
   "source": [
    "#### Converter o ficheiro CSV para Excel"
   ]
  },
  {
   "cell_type": "code",
   "execution_count": null,
   "metadata": {
    "collapsed": true
   },
   "outputs": [],
   "source": [
    "wb = Workbook()\n",
    "worksheet = wb.active\n",
    "fname = \"data/dados_classificados.csv\"\n",
    "for row in csv.reader(open(fname), delimiter=\"\\t\"):\n",
    "    worksheet.append([_convert_to_number(cell) for cell in row])\n",
    "wb.save(fname.replace(\".csv\", \".xlsx\"))\n",
    "print(\"\\nA gravar o resultado no ficheiro excel dados_classificados.xlsx.\\n\")\n",
    "print(\"Terminado!\\n\")"
   ]
  },
  {
   "cell_type": "code",
   "execution_count": null,
   "metadata": {
    "collapsed": true
   },
   "outputs": [],
   "source": []
  }
 ],
 "metadata": {
  "kernelspec": {
   "display_name": "Python 3",
   "language": "python",
   "name": "python3"
  },
  "language_info": {
   "codemirror_mode": {
    "name": "ipython",
    "version": 3
   },
   "file_extension": ".py",
   "mimetype": "text/x-python",
   "name": "python",
   "nbconvert_exporter": "python",
   "pygments_lexer": "ipython3",
   "version": "3.6.3"
  }
 },
 "nbformat": 4,
 "nbformat_minor": 2
}
