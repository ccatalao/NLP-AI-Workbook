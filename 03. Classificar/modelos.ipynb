{
 "cells": [
  {
   "cell_type": "markdown",
   "metadata": {},
   "source": [
    "# LINGUAGEM NATURAL E INTELIGÊNCIA ARTIFICIAL\n"
   ]
  },
  {
   "cell_type": "markdown",
   "metadata": {},
   "source": [
    "## MODELOS DE CLASSIFICAÇÃO AUTOMÁTICA DE TEXTO"
   ]
  },
  {
   "cell_type": "markdown",
   "metadata": {},
   "source": [
    "Carlos Catalão Alves  \n",
    "13 Maio, 2018"
   ]
  },
  {
   "cell_type": "markdown",
   "metadata": {},
   "source": [
    "#### Aplicação:"
   ]
  },
  {
   "cell_type": "markdown",
   "metadata": {},
   "source": [
    "Obter e comparar os resultados de diferentes modelos, usados em Aprendizagem Máquina, para classificação automática de textos. \n",
    "  "
   ]
  },
  {
   "cell_type": "markdown",
   "metadata": {},
   "source": [
    "Os modelos utilizados são:  \n",
    "\n",
    "1. k-Nearest Neighbor (kNN)   \n",
    "2. SGDClassifier  \n",
    "3. Perceptron  \n",
    "4. Naive Bayes (modelos Multinominal e Bernoulli)  \n",
    "\n",
    "Em cada um dos modelos será possível observar um relatório detalhado, incluindo diversos dados métricos. É produzido também um gráfico comparativo dos diferentes modelos. \n",
    "\n",
    "Os dados são lidos num ficheiro csv, delimitado por tabs (textos_treino.csv), e são divididos em séries para treino e para teste. Os resultados são obtidos a partir de uma comparação entre as classificações previstas pelos modelos treinados e as classificações reais à partida.\n"
   ]
  },
  {
   "cell_type": "markdown",
   "metadata": {},
   "source": [
    "#### Livrarias python"
   ]
  },
  {
   "cell_type": "code",
   "execution_count": 2,
   "metadata": {
    "collapsed": true
   },
   "outputs": [],
   "source": [
    "import re\n",
    "import pandas as pd\n",
    "import numpy as np\n",
    "import matplotlib.pyplot as plt\n",
    "from time import time"
   ]
  },
  {
   "cell_type": "markdown",
   "metadata": {},
   "source": [
    "#### Livrarias NLTK - Natural Langage Processing Toolkit"
   ]
  },
  {
   "cell_type": "code",
   "execution_count": 3,
   "metadata": {
    "collapsed": true
   },
   "outputs": [],
   "source": [
    "import nltk\n",
    "from nltk.stem.snowball import SnowballStemmer\n",
    "from nltk.corpus import stopwords"
   ]
  },
  {
   "cell_type": "markdown",
   "metadata": {},
   "source": [
    "#### Livrarias SciKit Learn"
   ]
  },
  {
   "cell_type": "code",
   "execution_count": 4,
   "metadata": {
    "collapsed": true
   },
   "outputs": [],
   "source": [
    "from sklearn.feature_extraction.text import TfidfVectorizer\n",
    "from sklearn.feature_selection import SelectFromModel\n",
    "from sklearn import metrics "
   ]
  },
  {
   "cell_type": "markdown",
   "metadata": {},
   "source": [
    "#### Variáveis"
   ]
  },
  {
   "cell_type": "code",
   "execution_count": 5,
   "metadata": {
    "collapsed": true
   },
   "outputs": [],
   "source": [
    "report = []\n",
    "categorias = [ \"Astronomia\",\"Biologia\",\"Geologia\",\"Engenharia\",\"Patrimonio\"]"
   ]
  },
  {
   "cell_type": "markdown",
   "metadata": {},
   "source": [
    "#### Funções"
   ]
  },
  {
   "cell_type": "code",
   "execution_count": 6,
   "metadata": {
    "collapsed": true
   },
   "outputs": [],
   "source": [
    "def tokenizar(texto, stemizar=True, lingua=\"portuguese\"):\n",
    "\n",
    "    # Usa o SnowballStemmer do NLTK para português\n",
    "    stemizador = SnowballStemmer(lingua)\n",
    "\n",
    "    # Tokeniza por frase e por palavra\n",
    "    tokens = [word.lower() for frase in nltk.sent_tokenize(texto) for word in nltk.word_tokenize(frase)]\n",
    "    \n",
    "    # Aplica NLTK stopwords \n",
    "    stop_words_pt = set(stopwords.words(lingua)) \n",
    "    \n",
    "    # Filtra as palavras que não têm letras, e as que estão na lista de stopwords\n",
    "    tokens_filtrados = []\n",
    "    for token in tokens:\n",
    "        if re.search(\"[a-zA-Z]\", token):\n",
    "            if token not in stopwords.words(lingua):\n",
    "                if token not in stop_words_pt:\n",
    "                    tokens_filtrados.append(token)\n",
    "                if stemizar:\n",
    "                    stems = [stemizador.stem(token) for token in tokens_filtrados]\n",
    "    return stems\n"
   ]
  },
  {
   "cell_type": "code",
   "execution_count": 7,
   "metadata": {
    "collapsed": true
   },
   "outputs": [],
   "source": [
    "# Relatório de classificação\n",
    "def reporta(clf, modelo):\n",
    "    \n",
    "    print(\"\\nModelo: %s\" % modelo)\n",
    "    print('_' * 80)\n",
    "\n",
    "    clf.fit(X_treino, y_treino)\n",
    "    previsao = clf.predict(X_teste)\n",
    "    score = metrics.accuracy_score(y_teste, previsao)\n",
    "    print(\"\\nacurancy: %0.3f\" % score)\n",
    "\n",
    "    if hasattr(clf, 'coef_'):\n",
    "        print(\"\\nTermos mais relevantes em cada categoria:\\n\")\n",
    "        for i, label in enumerate(categorias):\n",
    "            top10 = np.argsort(clf.coef_[i])[-10:]\n",
    "            print(trim(\"%s: \\t %s\" % (label, \"  \".join(termos[top10]))))\n",
    "        print()\n",
    "\n",
    "\n",
    "    print(\"\\nRelatório:\")\n",
    "    print(metrics.classification_report(y_teste, previsao, target_names=categorias))\n",
    "    print(\"\\nconfusion matrix:\")\n",
    "    print(metrics.confusion_matrix(y_teste, previsao))\n",
    "\n",
    "    print()\n",
    "    clf_descr = str(clf).split('(')[0]\n",
    "    return clf_descr, score"
   ]
  },
  {
   "cell_type": "code",
   "execution_count": 8,
   "metadata": {
    "collapsed": true
   },
   "outputs": [],
   "source": [
    "def trim(s):\n",
    "    # Assegura apresentação dentro dos limites das 80 colunas do terminal\n",
    "    return s if len(s) <= 80 else s[:77] + \"...\""
   ]
  },
  {
   "cell_type": "markdown",
   "metadata": {},
   "source": [
    "#### Importa ficheiro csv com textos"
   ]
  },
  {
   "cell_type": "code",
   "execution_count": 9,
   "metadata": {
    "collapsed": true
   },
   "outputs": [],
   "source": [
    "# Importando os dados de treino\n",
    "dados = pd.read_csv('textos_treino.csv', delimiter = '\\t', quoting = 3)"
   ]
  },
  {
   "cell_type": "markdown",
   "metadata": {},
   "source": [
    "#### Partição dos dados em treino e teste"
   ]
  },
  {
   "cell_type": "code",
   "execution_count": 10,
   "metadata": {},
   "outputs": [
    {
     "name": "stdout",
     "output_type": "stream",
     "text": [
      "16 documentos de treino\n",
      "4 documentos de teste\n",
      "5 categorias\n",
      "\n"
     ]
    }
   ],
   "source": [
    "X = dados[\"texto\"]\n",
    "y = dados[\"target\"]\n",
    "\n",
    "# Dividir documentos em treino e teste\n",
    "from sklearn.model_selection import train_test_split\n",
    "X_treino, X_teste, y_treino, y_teste = train_test_split(X, y, test_size=0.2, random_state=42)\n",
    "\n",
    "print(\"%d documentos de treino\" % (len(X_treino)))\n",
    "print(\"%d documentos de teste\" % (len(X_teste)))\n",
    "print(\"%d categorias\" % len(categorias))\n",
    "print()"
   ]
  },
  {
   "cell_type": "markdown",
   "metadata": {},
   "source": [
    "#### Dados de treino: Pré-processamento e vectorização "
   ]
  },
  {
   "cell_type": "code",
   "execution_count": 11,
   "metadata": {},
   "outputs": [
    {
     "name": "stdout",
     "output_type": "stream",
     "text": [
      "A extrair termos de 16 documentos de treino ...\n",
      "Termos extraídos em: 5.7s\n",
      "documentos: 16, termos: 780\n",
      "\n"
     ]
    }
   ],
   "source": [
    "print(\"A extrair termos de %d documentos de treino ...\"  % (len(X_treino)))\n",
    "t0 = time()\n",
    "vectorizer = TfidfVectorizer(sublinear_tf=True, max_df=0.5, stop_words='english', tokenizer=tokenizar)\n",
    "X_treino = vectorizer.fit_transform(X_treino)\n",
    "duracao = time() - t0\n",
    "print(\"Termos extraídos em: {0:.1f}s\".format(duracao))\n",
    "print(\"documentos: %d, termos: %d\" % X_treino.shape)\n",
    "print()"
   ]
  },
  {
   "cell_type": "markdown",
   "metadata": {},
   "source": [
    "#### Dados de teste: Pré-processamento e vectorização "
   ]
  },
  {
   "cell_type": "code",
   "execution_count": 12,
   "metadata": {},
   "outputs": [
    {
     "name": "stdout",
     "output_type": "stream",
     "text": [
      "A extrair termos de 4 documentos de teste ...\n",
      "Termos extraídos em: 1.5s\n",
      "documentos: 4, termos: 780\n",
      "\n"
     ]
    }
   ],
   "source": [
    "print(\"A extrair termos de %d documentos de teste ...\"  % (len(X_teste)))\n",
    "t0 = time()\n",
    "X_teste = vectorizer.transform(X_teste)\n",
    "duracao = time() - t0\n",
    "print(\"Termos extraídos em: {0:.1f}s\".format(duracao))\n",
    "print(\"documentos: %d, termos: %d\" % X_teste.shape)\n",
    "print()"
   ]
  },
  {
   "cell_type": "markdown",
   "metadata": {},
   "source": [
    "#### Associar vectores aos termos originais"
   ]
  },
  {
   "cell_type": "code",
   "execution_count": 13,
   "metadata": {
    "collapsed": true
   },
   "outputs": [],
   "source": [
    "# Ligar cada vector ao termo original, para mostrar os mais relevantes\n",
    "termos = vectorizer.get_feature_names()\n",
    "if termos:\n",
    "    termos = np.asarray(termos)"
   ]
  },
  {
   "cell_type": "markdown",
   "metadata": {},
   "source": [
    "### Aplicar os modelos "
   ]
  },
  {
   "cell_type": "markdown",
   "metadata": {},
   "source": [
    "#### Perceptron"
   ]
  },
  {
   "cell_type": "code",
   "execution_count": 14,
   "metadata": {},
   "outputs": [
    {
     "name": "stdout",
     "output_type": "stream",
     "text": [
      "\n",
      "Modelo: Perceptron\n",
      "________________________________________________________________________________\n",
      "\n",
      "acurancy: 1.000\n",
      "\n",
      "Termos mais relevantes em cada categoria:\n",
      "\n",
      "Astronomia: \t pol  conceit  observacional  moviment  aparent  estrel  constel...\n",
      "Biologia: \t medicin  muit  alcobac  valor  equilíbri  constitu  candeeir  esp...\n",
      "Geologia: \t geolog  human  roch  gerês  granít  geoform  vertent  instabil  r...\n",
      "Engenharia: \t carvã  electr  termoeléctr  sin  queim  betumin  plataform  sul...\n",
      "Patrimonio: \t project  igrej  estud  ermid  investig  alentej  pintur  diagnó...\n",
      "\n",
      "\n",
      "Relatório:\n",
      "             precision    recall  f1-score   support\n",
      "\n",
      " Astronomia       1.00      1.00      1.00         1\n",
      "   Biologia       1.00      1.00      1.00         3\n",
      "\n",
      "avg / total       1.00      1.00      1.00         4\n",
      "\n",
      "\n",
      "confusion matrix:\n",
      "[[1 0]\n",
      " [0 3]]\n",
      "\n"
     ]
    },
    {
     "name": "stderr",
     "output_type": "stream",
     "text": [
      "/Users/calves/anaconda3/lib/python3.6/site-packages/sklearn/metrics/classification.py:1428: UserWarning: labels size, 2, does not match size of target_names, 5\n",
      "  .format(len(labels), len(target_names))\n"
     ]
    }
   ],
   "source": [
    "from sklearn.linear_model import Perceptron\n",
    "report.append(reporta(Perceptron(max_iter=50), \"Perceptron\"))"
   ]
  },
  {
   "cell_type": "markdown",
   "metadata": {},
   "source": [
    "#### k-Nearest Neighbor (kNN)"
   ]
  },
  {
   "cell_type": "code",
   "execution_count": 15,
   "metadata": {},
   "outputs": [
    {
     "name": "stdout",
     "output_type": "stream",
     "text": [
      "\n",
      "Modelo: KNeighbors Classifier\n",
      "________________________________________________________________________________\n",
      "\n",
      "acurancy: 0.250\n",
      "\n",
      "Relatório:\n",
      "             precision    recall  f1-score   support\n",
      "\n",
      " Astronomia       0.50      1.00      0.67         1\n",
      "   Biologia       0.00      0.00      0.00         3\n",
      "   Geologia       0.00      0.00      0.00         0\n",
      "\n",
      "avg / total       0.12      0.25      0.17         4\n",
      "\n",
      "\n",
      "confusion matrix:\n",
      "[[1 0 0]\n",
      " [1 0 2]\n",
      " [0 0 0]]\n",
      "\n"
     ]
    },
    {
     "name": "stderr",
     "output_type": "stream",
     "text": [
      "/Users/calves/anaconda3/lib/python3.6/site-packages/sklearn/metrics/classification.py:1428: UserWarning: labels size, 3, does not match size of target_names, 5\n",
      "  .format(len(labels), len(target_names))\n",
      "/Users/calves/anaconda3/lib/python3.6/site-packages/sklearn/metrics/classification.py:1135: UndefinedMetricWarning: Precision and F-score are ill-defined and being set to 0.0 in labels with no predicted samples.\n",
      "  'precision', 'predicted', average, warn_for)\n",
      "/Users/calves/anaconda3/lib/python3.6/site-packages/sklearn/metrics/classification.py:1137: UndefinedMetricWarning: Recall and F-score are ill-defined and being set to 0.0 in labels with no true samples.\n",
      "  'recall', 'true', average, warn_for)\n"
     ]
    }
   ],
   "source": [
    "from sklearn.neighbors import KNeighborsClassifier\n",
    "report.append(reporta(KNeighborsClassifier(n_neighbors=10), \"KNeighbors Classifier\"))"
   ]
  },
  {
   "cell_type": "markdown",
   "metadata": {},
   "source": [
    "#### SGDClassifier"
   ]
  },
  {
   "cell_type": "code",
   "execution_count": 16,
   "metadata": {},
   "outputs": [
    {
     "name": "stdout",
     "output_type": "stream",
     "text": [
      "\n",
      "Modelo: SGDC Classifier\n",
      "________________________________________________________________________________\n",
      "\n",
      "acurancy: 0.250\n",
      "\n",
      "Termos mais relevantes em cada categoria:\n",
      "\n",
      "Astronomia: \t introdu  explic  noit  sessã  particip  astronom  relógi  estre...\n",
      "Biologia: \t sop  muit  equilíbri  valor  alcobac  constitu  candeeir  espéc  ...\n",
      "Geologia: \t característ  gerês  geoform  granít  vertent  instabil  rio  regi...\n",
      "Engenharia: \t hidroeléctr  entrou  industrial  energ  construçã  mw  gui  ser...\n",
      "Patrimonio: \t diagnóst  investig  pintur  estud  ermid  conserv  igrej  alent...\n",
      "\n",
      "\n",
      "Relatório:\n",
      "             precision    recall  f1-score   support\n",
      "\n",
      " Astronomia       1.00      1.00      1.00         1\n",
      "   Biologia       0.00      0.00      0.00         3\n",
      "   Geologia       0.00      0.00      0.00         0\n",
      " Engenharia       0.00      0.00      0.00         0\n",
      "\n",
      "avg / total       0.25      0.25      0.25         4\n",
      "\n",
      "\n",
      "confusion matrix:\n",
      "[[1 0 0 0]\n",
      " [0 0 2 1]\n",
      " [0 0 0 0]\n",
      " [0 0 0 0]]\n",
      "\n"
     ]
    },
    {
     "name": "stderr",
     "output_type": "stream",
     "text": [
      "/Users/calves/anaconda3/lib/python3.6/site-packages/sklearn/metrics/classification.py:1428: UserWarning: labels size, 4, does not match size of target_names, 5\n",
      "  .format(len(labels), len(target_names))\n",
      "/Users/calves/anaconda3/lib/python3.6/site-packages/sklearn/metrics/classification.py:1135: UndefinedMetricWarning: Precision and F-score are ill-defined and being set to 0.0 in labels with no predicted samples.\n",
      "  'precision', 'predicted', average, warn_for)\n",
      "/Users/calves/anaconda3/lib/python3.6/site-packages/sklearn/metrics/classification.py:1137: UndefinedMetricWarning: Recall and F-score are ill-defined and being set to 0.0 in labels with no true samples.\n",
      "  'recall', 'true', average, warn_for)\n"
     ]
    }
   ],
   "source": [
    "from sklearn.linear_model import SGDClassifier\n",
    "report.append(reporta(SGDClassifier(alpha=.0001, max_iter=50, penalty=\"elasticnet\"), \"SGDC Classifier\"))"
   ]
  },
  {
   "cell_type": "markdown",
   "metadata": {},
   "source": [
    "#### NAIVE BAYES"
   ]
  },
  {
   "cell_type": "code",
   "execution_count": 17,
   "metadata": {
    "collapsed": true
   },
   "outputs": [],
   "source": [
    "from sklearn.naive_bayes import BernoulliNB, MultinomialNB"
   ]
  },
  {
   "cell_type": "markdown",
   "metadata": {},
   "source": [
    "#### Multinomial"
   ]
  },
  {
   "cell_type": "code",
   "execution_count": 18,
   "metadata": {},
   "outputs": [
    {
     "name": "stdout",
     "output_type": "stream",
     "text": [
      "\n",
      "Modelo: MultinomialNB\n",
      "________________________________________________________________________________\n",
      "\n",
      "acurancy: 1.000\n",
      "\n",
      "Termos mais relevantes em cada categoria:\n",
      "\n",
      "Astronomia: \t astronóm  particip  activ  planetári  relógi  sessõ  estrel  co...\n",
      "Biologia: \t serr  valor  alcobac  equilíbri  constitu  candeeir  espéc  val  ...\n",
      "Geologia: \t vertent  sobr  divers  activ  instabil  rio  regiã  val  peg  din...\n",
      "Engenharia: \t entrou  industrial  energ  construçã  gui  mw  visit  servic  p...\n",
      "Patrimonio: \t pintur  project  conserv  alentej  estud  igrej  investig  lev ...\n",
      "\n",
      "\n",
      "Relatório:\n",
      "             precision    recall  f1-score   support\n",
      "\n",
      " Astronomia       1.00      1.00      1.00         1\n",
      "   Biologia       1.00      1.00      1.00         3\n",
      "\n",
      "avg / total       1.00      1.00      1.00         4\n",
      "\n",
      "\n",
      "confusion matrix:\n",
      "[[1 0]\n",
      " [0 3]]\n",
      "\n"
     ]
    },
    {
     "name": "stderr",
     "output_type": "stream",
     "text": [
      "/Users/calves/anaconda3/lib/python3.6/site-packages/sklearn/metrics/classification.py:1428: UserWarning: labels size, 2, does not match size of target_names, 5\n",
      "  .format(len(labels), len(target_names))\n"
     ]
    }
   ],
   "source": [
    "report.append(reporta(MultinomialNB(alpha=.01), \"MultinomialNB\"))"
   ]
  },
  {
   "cell_type": "markdown",
   "metadata": {},
   "source": [
    "#### Bernoulli"
   ]
  },
  {
   "cell_type": "code",
   "execution_count": 19,
   "metadata": {},
   "outputs": [
    {
     "name": "stdout",
     "output_type": "stream",
     "text": [
      "\n",
      "Modelo: BernoulliNB\n",
      "________________________________________________________________________________\n",
      "\n",
      "acurancy: 0.250\n",
      "\n",
      "Termos mais relevantes em cada categoria:\n",
      "\n",
      "Astronomia: \t long  activ  tem  explic  sessõ  constel  sobr  planetári  sol ...\n",
      "Biologia: \t estend  mamífer  cel  cavidad  madeireir  caud  ribeir  carrascal...\n",
      "Geologia: \t vam  ciênc  desd  paisag  roch  sobr  rio  activ  regiã  geológ\n",
      "Engenharia: \t industrial  construçã  servic  energ  entrou  potênc  mw  grup ...\n",
      "Patrimonio: \t descobert  preserv  pretende-s  cruz  project  prol  construír ...\n",
      "\n",
      "\n",
      "Relatório:\n",
      "             precision    recall  f1-score   support\n",
      "\n",
      " Astronomia       1.00      1.00      1.00         1\n",
      "   Biologia       0.00      0.00      0.00         3\n",
      "   Geologia       0.00      0.00      0.00         0\n",
      " Engenharia       0.00      0.00      0.00         0\n",
      "\n",
      "avg / total       0.25      0.25      0.25         4\n",
      "\n",
      "\n",
      "confusion matrix:\n",
      "[[1 0 0 0]\n",
      " [0 0 2 1]\n",
      " [0 0 0 0]\n",
      " [0 0 0 0]]\n",
      "\n"
     ]
    },
    {
     "name": "stderr",
     "output_type": "stream",
     "text": [
      "/Users/calves/anaconda3/lib/python3.6/site-packages/sklearn/metrics/classification.py:1428: UserWarning: labels size, 4, does not match size of target_names, 5\n",
      "  .format(len(labels), len(target_names))\n",
      "/Users/calves/anaconda3/lib/python3.6/site-packages/sklearn/metrics/classification.py:1135: UndefinedMetricWarning: Precision and F-score are ill-defined and being set to 0.0 in labels with no predicted samples.\n",
      "  'precision', 'predicted', average, warn_for)\n",
      "/Users/calves/anaconda3/lib/python3.6/site-packages/sklearn/metrics/classification.py:1137: UndefinedMetricWarning: Recall and F-score are ill-defined and being set to 0.0 in labels with no true samples.\n",
      "  'recall', 'true', average, warn_for)\n"
     ]
    }
   ],
   "source": [
    "report.append(reporta(BernoulliNB(alpha=.01), \"BernoulliNB\"))"
   ]
  },
  {
   "cell_type": "markdown",
   "metadata": {},
   "source": [
    "#### GRÁFICO COMPARATIVO"
   ]
  },
  {
   "cell_type": "code",
   "execution_count": 20,
   "metadata": {},
   "outputs": [
    {
     "data": {
      "image/png": "[encoded data removed]",
      "text/plain": [
       "<matplotlib.figure.Figure at 0x115b8ab38>"
      ]
     },
     "metadata": {},
     "output_type": "display_data"
    }
   ],
   "source": [
    "indices = np.arange(len(report))\n",
    "report = [[x[i] for x in report] for i in range(2)]\n",
    "clf_names, score = report\n",
    "plt.figure(figsize=(8, 4))\n",
    "plt.title(\"Score\")\n",
    "plt.barh(indices, score, .2, label=\"score\", color='navy')\n",
    "plt.yticks(())\n",
    "plt.legend(loc='best')\n",
    "plt.subplots_adjust(left=.25)\n",
    "plt.subplots_adjust(top=.95)\n",
    "plt.subplots_adjust(bottom=.05)\n",
    "\n",
    "for i, c in zip(indices, clf_names):\n",
    "    plt.text(-.3, i, c)\n",
    "plt.show()"
   ]
  },
  {
   "cell_type": "code",
   "execution_count": null,
   "metadata": {
    "collapsed": true
   },
   "outputs": [],
   "source": []
  }
 ],
 "metadata": {
  "kernelspec": {
   "display_name": "Python 3",
   "language": "python",
   "name": "python3"
  },
  "language_info": {
   "codemirror_mode": {
    "name": "ipython",
    "version": 3
   },
   "file_extension": ".py",
   "mimetype": "text/x-python",
   "name": "python",
   "nbconvert_exporter": "python",
   "pygments_lexer": "ipython3",
   "version": "3.6.3"
  }
 },
 "nbformat": 4,
 "nbformat_minor": 2
}
